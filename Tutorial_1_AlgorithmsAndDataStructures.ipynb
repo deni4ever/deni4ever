{
  "nbformat": 4,
  "nbformat_minor": 0,
  "metadata": {
    "colab": {
      "provenance": [],
      "include_colab_link": true
    },
    "kernelspec": {
      "name": "python3",
      "display_name": "Python 3"
    },
    "language_info": {
      "name": "python"
    }
  },
  "cells": [
    {
      "cell_type": "markdown",
      "metadata": {
        "id": "view-in-github",
        "colab_type": "text"
      },
      "source": [
        "<a href=\"https://colab.research.google.com/github/deni4ever/deni4ever/blob/main/Tutorial_1_AlgorithmsAndDataStructures.ipynb\" target=\"_parent\"><img src=\"https://colab.research.google.com/assets/colab-badge.svg\" alt=\"Open In Colab\"/></a>"
      ]
    },
    {
      "cell_type": "code",
      "execution_count": null,
      "metadata": {
        "id": "Wjpu3k95UTe0",
        "colab": {
          "base_uri": "https://localhost:8080/"
        },
        "outputId": "0c93c9be-6412-4431-8b97-b135974636c7"
      },
      "outputs": [
        {
          "output_type": "stream",
          "name": "stdout",
          "text": [
            "Hello, STUDENTS OF ITWB2043  MC-O31 ALGORITHMS AND DATA STRUCTURES\n"
          ]
        }
      ],
      "source": [
        "print(\"Hello, STUDENTS OF ALGORITHMS AND DATA STRUCTURES\")"
      ]
    },
    {
      "cell_type": "code",
      "source": [
        "a=10\n",
        "\n",
        "print(a, type(a)) #type\n",
        "\n",
        "b=int(-20)\n",
        "print(b, type(b))"
      ],
      "metadata": {
        "colab": {
          "base_uri": "https://localhost:8080/"
        },
        "id": "qTDl_T8dUmAu",
        "outputId": "363304bf-820f-4e2e-cc72-2c0fb9555ff0"
      },
      "execution_count": null,
      "outputs": [
        {
          "output_type": "stream",
          "name": "stdout",
          "text": [
            "10 <class 'int'>\n",
            "-20 <class 'int'>\n"
          ]
        }
      ]
    },
    {
      "cell_type": "code",
      "source": [],
      "metadata": {
        "id": "6FmglTc2U3RW"
      },
      "execution_count": null,
      "outputs": []
    },
    {
      "cell_type": "code",
      "source": [
        "name='jhon'\n",
        "print('name: ', name,', data_type: ', type(name))\n",
        "\n",
        "name2=str('jhonson')\n",
        "print('name: ', name2,', data_type: ', type(name2))\n"
      ],
      "metadata": {
        "colab": {
          "base_uri": "https://localhost:8080/"
        },
        "id": "7RhU14YoV85P",
        "outputId": "9a60e264-24aa-453e-8d9b-0856b5624449"
      },
      "execution_count": null,
      "outputs": [
        {
          "output_type": "stream",
          "name": "stdout",
          "text": [
            "name:  jhon , data_type:  <class 'str'>\n",
            "name:  jhonson , data_type:  <class 'str'>\n"
          ]
        }
      ]
    },
    {
      "cell_type": "code",
      "source": [
        "first_name = 'data'\n",
        "last_name = 'structures'\n",
        "\n",
        "print(first_name+' '+last_name)"
      ],
      "metadata": {
        "colab": {
          "base_uri": "https://localhost:8080/"
        },
        "id": "Mgu0KVXlXHQa",
        "outputId": "4f89d050-079f-46ef-8b16-67f94faa1fe8"
      },
      "execution_count": null,
      "outputs": [
        {
          "output_type": "stream",
          "name": "stdout",
          "text": [
            "data structures\n"
          ]
        }
      ]
    },
    {
      "cell_type": "code",
      "source": [
        "2+3/4, 'a'+'b'"
      ],
      "metadata": {
        "colab": {
          "base_uri": "https://localhost:8080/"
        },
        "id": "xMgooZDMvId8",
        "outputId": "8a37aacb-73ef-4d67-99d0-d1b7e7023a31"
      },
      "execution_count": 1,
      "outputs": [
        {
          "output_type": "execute_result",
          "data": {
            "text/plain": [
              "(2.75, 'ab')"
            ]
          },
          "metadata": {},
          "execution_count": 1
        }
      ]
    },
    {
      "cell_type": "code",
      "source": [
        "a_bool=True; b_bool=False\n",
        "print(a_bool, b_bool)\n",
        "\n",
        "print(type(a_bool), type(b_bool))\n",
        "\n",
        "c=0\n",
        "print(type(c))\n",
        "print(c==a_bool, c==b_bool)  #c=0, b_bool=False\n",
        "\n",
        "c_bool=bool(0)\n",
        "print('\\n', type(c_bool))\n",
        "print(c==c_bool, c_bool==b_bool)\n"
      ],
      "metadata": {
        "colab": {
          "base_uri": "https://localhost:8080/"
        },
        "id": "0bFkIb-KWSSM",
        "outputId": "bb484227-4294-4d65-e0a2-789ce44e0969"
      },
      "execution_count": null,
      "outputs": [
        {
          "output_type": "stream",
          "name": "stdout",
          "text": [
            "True False\n",
            "<class 'bool'> <class 'bool'>\n",
            "<class 'int'>\n",
            "False True\n",
            "\n",
            " <class 'bool'>\n",
            "True True\n"
          ]
        }
      ]
    },
    {
      "cell_type": "code",
      "source": [],
      "metadata": {
        "id": "JiqtvTOfXg9k"
      },
      "execution_count": null,
      "outputs": []
    },
    {
      "cell_type": "code",
      "source": [
        "a_float = 2.0\n",
        "b_float = 0.13\n",
        "\n",
        "print(type(a_float), type(b_float))\n",
        "\n",
        "c_float = float(2)\n",
        "\n",
        "print(type(c_float))"
      ],
      "metadata": {
        "colab": {
          "base_uri": "https://localhost:8080/"
        },
        "id": "MffSUvT2YflL",
        "outputId": "25a9d1df-c2c7-401d-9557-83db47ff0cf4"
      },
      "execution_count": null,
      "outputs": [
        {
          "output_type": "stream",
          "name": "stdout",
          "text": [
            "<class 'float'> <class 'float'>\n",
            "<class 'float'>\n"
          ]
        }
      ]
    },
    {
      "cell_type": "code",
      "source": [
        "\"\"\"\n",
        "block of comments\n",
        "fd;lfkd;lfkd\n",
        "\"\"\"\n",
        "print(\"Hello, STUDENTS OF ITWB2043  MC-S2 ALGORITHMS AND DATA STRUCTURES\")"
      ],
      "metadata": {
        "colab": {
          "base_uri": "https://localhost:8080/"
        },
        "id": "r_nleBQsU3aj",
        "outputId": "96a251a8-5d02-4f82-defb-1ae687ffdc2c"
      },
      "execution_count": null,
      "outputs": [
        {
          "output_type": "stream",
          "name": "stdout",
          "text": [
            "Hello, STUDENTS OF ITWB2043  MC-S2 ALGORITHMS AND DATA STRUCTURES\n"
          ]
        }
      ]
    },
    {
      "cell_type": "code",
      "source": [
        "'''\n",
        "block of comments\n",
        "'''\n",
        "print(\"Hello, STUDENTS OF ITWB2043  MC-S2 ALGORITHMS AND DATA STRUCTURES\")"
      ],
      "metadata": {
        "colab": {
          "base_uri": "https://localhost:8080/"
        },
        "id": "QKZIOvJNVApM",
        "outputId": "64120804-bf8b-43b1-80fd-ecf13eef0a29"
      },
      "execution_count": null,
      "outputs": [
        {
          "output_type": "stream",
          "name": "stdout",
          "text": [
            "Hello, STUDENTS OF ITWB2043  MC-S2 ALGORITHMS AND DATA STRUCTURES\n"
          ]
        }
      ]
    },
    {
      "cell_type": "code",
      "source": [],
      "metadata": {
        "id": "tNIoHLocXrt0"
      },
      "execution_count": null,
      "outputs": []
    },
    {
      "cell_type": "code",
      "source": [
        "courses = ['algorithms', 'calculus', 'english']\n",
        "print(courses)\n",
        "print(type(courses), ', len : ', len(courses))"
      ],
      "metadata": {
        "colab": {
          "base_uri": "https://localhost:8080/"
        },
        "id": "Wx7WpT9cdvrV",
        "outputId": "3c3799dd-a9de-4910-b09a-0325899d1857"
      },
      "execution_count": null,
      "outputs": [
        {
          "output_type": "stream",
          "name": "stdout",
          "text": [
            "['algorithms', 'calculus', 'english']\n",
            "<class 'list'> , len :  3\n"
          ]
        }
      ]
    },
    {
      "cell_type": "code",
      "source": [
        "print(courses[0], courses[2]) #courses[0]  , left->right\n",
        "\n",
        "print(courses[-3], courses[-1])  #, right->left"
      ],
      "metadata": {
        "colab": {
          "base_uri": "https://localhost:8080/"
        },
        "id": "d8_NC3DzeR-b",
        "outputId": "f67cea99-d8ae-413b-9634-abcd7f6f23b4"
      },
      "execution_count": null,
      "outputs": [
        {
          "output_type": "stream",
          "name": "stdout",
          "text": [
            "algorithms english\n",
            "algorithms english\n"
          ]
        }
      ]
    },
    {
      "cell_type": "code",
      "source": [
        "print(courses[0:2])  # [0], [1]  ,\n",
        "print(courses[0:-2])"
      ],
      "metadata": {
        "colab": {
          "base_uri": "https://localhost:8080/"
        },
        "id": "i5Dl3M5rxRKw",
        "outputId": "9718098a-9f99-4a9b-e302-2a46c3f592fa"
      },
      "execution_count": null,
      "outputs": [
        {
          "output_type": "stream",
          "name": "stdout",
          "text": [
            "['algorithms', 'calculus']\n",
            "['algorithms']\n"
          ]
        }
      ]
    },
    {
      "cell_type": "code",
      "source": [
        "courses_2 = ['algorithms', 'calculus', 'english', 'algorithms']\n",
        "courses_2"
      ],
      "metadata": {
        "colab": {
          "base_uri": "https://localhost:8080/"
        },
        "id": "eXQtNmiaeBdJ",
        "outputId": "7a26036c-639d-48eb-908a-a0d7357ebd69"
      },
      "execution_count": null,
      "outputs": [
        {
          "output_type": "execute_result",
          "data": {
            "text/plain": [
              "['algorithms', 'calculus', 'english', 'algorithms']"
            ]
          },
          "metadata": {},
          "execution_count": 18
        }
      ]
    },
    {
      "cell_type": "code",
      "source": [
        "courses_set = set(['algorithms', 'calculus', 'english', 'algorithms'])\n",
        "print(courses_set, type(courses_set))"
      ],
      "metadata": {
        "colab": {
          "base_uri": "https://localhost:8080/"
        },
        "id": "r9K6mcHTeNiC",
        "outputId": "26e6f6df-5e85-4eca-cc10-410aab5ef27e"
      },
      "execution_count": null,
      "outputs": [
        {
          "output_type": "stream",
          "name": "stdout",
          "text": [
            "{'algorithms', 'english', 'calculus'} <class 'set'>\n"
          ]
        }
      ]
    },
    {
      "cell_type": "code",
      "source": [
        "courses_tuple = tuple(courses_2)\n",
        "print(courses_tuple)\n",
        "print(type(courses_tuple))"
      ],
      "metadata": {
        "colab": {
          "base_uri": "https://localhost:8080/"
        },
        "id": "WibZXLNMinIJ",
        "outputId": "4fba74a4-960d-447f-d2db-b5013dfb6e75"
      },
      "execution_count": null,
      "outputs": [
        {
          "output_type": "stream",
          "name": "stdout",
          "text": [
            "('algorithms', 'calculus', 'english', 'algorithms')\n",
            "<class 'tuple'>\n"
          ]
        }
      ]
    },
    {
      "cell_type": "code",
      "source": [],
      "metadata": {
        "id": "nvDyQjcJg89X"
      },
      "execution_count": null,
      "outputs": []
    },
    {
      "cell_type": "code",
      "source": [
        "dictionary = dict({0:'a', 1:'b'}) #key (unique)-> value\n",
        "print(type(dictionary))\n",
        "print(dictionary.keys())\n",
        "print(dictionary.values())\n",
        "\n",
        "print(dictionary)\n"
      ],
      "metadata": {
        "colab": {
          "base_uri": "https://localhost:8080/"
        },
        "id": "yILWjlOfeqV6",
        "outputId": "4cae399a-3aa6-43a2-ae2a-8e321ca5f45d"
      },
      "execution_count": null,
      "outputs": [
        {
          "output_type": "stream",
          "name": "stdout",
          "text": [
            "<class 'dict'>\n",
            "dict_keys([0, 1])\n",
            "dict_values(['a', 'b'])\n",
            "{0: 'a', 1: 'b'}\n"
          ]
        }
      ]
    },
    {
      "cell_type": "code",
      "source": [],
      "metadata": {
        "id": "zMox8OnLIc5-"
      },
      "execution_count": null,
      "outputs": []
    },
    {
      "cell_type": "code",
      "source": [
        "password_dictionary = {'user_1_password':'abv', 'user_2_password':8473}\n",
        "print(type(password_dictionary))\n",
        "print(password_dictionary)\n"
      ],
      "metadata": {
        "colab": {
          "base_uri": "https://localhost:8080/"
        },
        "id": "2HfGX7ipfDKu",
        "outputId": "0d060fe1-cb9e-443f-f5ed-79600a77a2c5"
      },
      "execution_count": null,
      "outputs": [
        {
          "output_type": "stream",
          "name": "stdout",
          "text": [
            "<class 'dict'>\n",
            "{'user_1_password': 'abv', 'user_2_password': 8473}\n"
          ]
        }
      ]
    },
    {
      "cell_type": "code",
      "source": [],
      "metadata": {
        "id": "EQr8zR58IfCm"
      },
      "execution_count": null,
      "outputs": []
    },
    {
      "cell_type": "markdown",
      "source": [
        "print(password_dictionary.keys())\n",
        "print(password_dictionary.values())"
      ],
      "metadata": {
        "id": "v0ZSt3ggfd-G"
      }
    },
    {
      "cell_type": "code",
      "source": [],
      "metadata": {
        "id": "ElJYrLIWIgTy"
      },
      "execution_count": null,
      "outputs": []
    },
    {
      "cell_type": "code",
      "source": [
        "dict2 = {'first_name':['a', 'b', 'c'], 'last_name':['x', 'y', 'z']}\n",
        "print(dict2)"
      ],
      "metadata": {
        "colab": {
          "base_uri": "https://localhost:8080/"
        },
        "id": "bKqZWurIfjTU",
        "outputId": "473ac95f-657e-4b0c-ed02-34ba655f794e"
      },
      "execution_count": null,
      "outputs": [
        {
          "output_type": "stream",
          "name": "stdout",
          "text": [
            "{'first_name': ['a', 'b', 'c'], 'last_name': ['x', 'y', 'z']}\n"
          ]
        }
      ]
    },
    {
      "cell_type": "code",
      "source": [],
      "metadata": {
        "id": "g6FakECUf0cM"
      },
      "execution_count": null,
      "outputs": []
    },
    {
      "cell_type": "code",
      "source": [],
      "metadata": {
        "id": "pZsVEFg4f55y"
      },
      "execution_count": null,
      "outputs": []
    },
    {
      "cell_type": "markdown",
      "source": [
        "**IMMUTABLE   VS   MUTABLE**"
      ],
      "metadata": {
        "id": "M_ysLjX6f617"
      }
    },
    {
      "cell_type": "code",
      "source": [
        "string_immutable = 'jhonson'\n",
        "\n",
        "print(string_immutable)\n",
        "print(string_immutable[3])\n",
        "\n",
        "string_immutable[3] = 'y'"
      ],
      "metadata": {
        "colab": {
          "base_uri": "https://localhost:8080/",
          "height": 235
        },
        "id": "ee5cf2Fof5_K",
        "outputId": "c9c9388c-4085-4110-eb9a-fbdccdc04d31"
      },
      "execution_count": null,
      "outputs": [
        {
          "output_type": "stream",
          "name": "stdout",
          "text": [
            "jhonson\n",
            "n\n"
          ]
        },
        {
          "output_type": "error",
          "ename": "TypeError",
          "evalue": "ignored",
          "traceback": [
            "\u001b[0;31m---------------------------------------------------------------------------\u001b[0m",
            "\u001b[0;31mTypeError\u001b[0m                                 Traceback (most recent call last)",
            "\u001b[0;32m<ipython-input-15-32dd294c4ec3>\u001b[0m in \u001b[0;36m<cell line: 6>\u001b[0;34m()\u001b[0m\n\u001b[1;32m      4\u001b[0m \u001b[0mprint\u001b[0m\u001b[0;34m(\u001b[0m\u001b[0mstring_immutable\u001b[0m\u001b[0;34m[\u001b[0m\u001b[0;36m3\u001b[0m\u001b[0;34m]\u001b[0m\u001b[0;34m)\u001b[0m\u001b[0;34m\u001b[0m\u001b[0;34m\u001b[0m\u001b[0m\n\u001b[1;32m      5\u001b[0m \u001b[0;34m\u001b[0m\u001b[0m\n\u001b[0;32m----> 6\u001b[0;31m \u001b[0mstring_immutable\u001b[0m\u001b[0;34m[\u001b[0m\u001b[0;36m3\u001b[0m\u001b[0;34m]\u001b[0m \u001b[0;34m=\u001b[0m \u001b[0;34m'y'\u001b[0m\u001b[0;34m\u001b[0m\u001b[0;34m\u001b[0m\u001b[0m\n\u001b[0m",
            "\u001b[0;31mTypeError\u001b[0m: 'str' object does not support item assignment"
          ]
        }
      ]
    },
    {
      "cell_type": "code",
      "source": [
        "set_immutable = set([1,2,3,4])\n",
        "\n",
        "print(set_immutable)\n",
        "\n",
        "#print(set_immutable[2])\n",
        "set_immutable[2]=4"
      ],
      "metadata": {
        "colab": {
          "base_uri": "https://localhost:8080/",
          "height": 217
        },
        "id": "IBX_H3GwgUeS",
        "outputId": "ffb7c37c-d289-4ccb-c650-03068dd51137"
      },
      "execution_count": null,
      "outputs": [
        {
          "output_type": "stream",
          "name": "stdout",
          "text": [
            "{1, 2, 3, 4}\n"
          ]
        },
        {
          "output_type": "error",
          "ename": "TypeError",
          "evalue": "ignored",
          "traceback": [
            "\u001b[0;31m---------------------------------------------------------------------------\u001b[0m",
            "\u001b[0;31mTypeError\u001b[0m                                 Traceback (most recent call last)",
            "\u001b[0;32m<ipython-input-17-9c3f2e151c71>\u001b[0m in \u001b[0;36m<cell line: 6>\u001b[0;34m()\u001b[0m\n\u001b[1;32m      4\u001b[0m \u001b[0;34m\u001b[0m\u001b[0m\n\u001b[1;32m      5\u001b[0m \u001b[0;31m#print(set_immutable[2])\u001b[0m\u001b[0;34m\u001b[0m\u001b[0;34m\u001b[0m\u001b[0m\n\u001b[0;32m----> 6\u001b[0;31m \u001b[0mset_immutable\u001b[0m\u001b[0;34m[\u001b[0m\u001b[0;36m2\u001b[0m\u001b[0;34m]\u001b[0m\u001b[0;34m=\u001b[0m\u001b[0;36m4\u001b[0m\u001b[0;34m\u001b[0m\u001b[0;34m\u001b[0m\u001b[0m\n\u001b[0m",
            "\u001b[0;31mTypeError\u001b[0m: 'set' object does not support item assignment"
          ]
        }
      ]
    },
    {
      "cell_type": "code",
      "source": [
        "set_immutable[2] = 9"
      ],
      "metadata": {
        "colab": {
          "base_uri": "https://localhost:8080/",
          "height": 165
        },
        "id": "w10MrzlvgnYy",
        "outputId": "b9d57f57-52cf-41fc-954a-71e0665af98f"
      },
      "execution_count": null,
      "outputs": [
        {
          "output_type": "error",
          "ename": "TypeError",
          "evalue": "ignored",
          "traceback": [
            "\u001b[0;31m---------------------------------------------------------------------------\u001b[0m",
            "\u001b[0;31mTypeError\u001b[0m                                 Traceback (most recent call last)",
            "\u001b[0;32m<ipython-input-29-87867f7358f7>\u001b[0m in \u001b[0;36m<cell line: 1>\u001b[0;34m()\u001b[0m\n\u001b[0;32m----> 1\u001b[0;31m \u001b[0mset_immutable\u001b[0m\u001b[0;34m[\u001b[0m\u001b[0;36m2\u001b[0m\u001b[0;34m]\u001b[0m \u001b[0;34m=\u001b[0m \u001b[0;36m9\u001b[0m\u001b[0;34m\u001b[0m\u001b[0;34m\u001b[0m\u001b[0m\n\u001b[0m",
            "\u001b[0;31mTypeError\u001b[0m: 'set' object does not support item assignment"
          ]
        }
      ]
    },
    {
      "cell_type": "code",
      "source": [
        "courses_tuple2 = (('database', 'AI'))\n",
        "print(courses_tuple2)\n",
        "\n",
        "print(type(courses_tuple2))\n",
        "\n",
        "courses_tuple2[1] = 'NLP'"
      ],
      "metadata": {
        "colab": {
          "base_uri": "https://localhost:8080/",
          "height": 235
        },
        "id": "V4gUFe11hTSi",
        "outputId": "d56e872f-7859-486a-824d-311bd8e93e39"
      },
      "execution_count": null,
      "outputs": [
        {
          "output_type": "stream",
          "name": "stdout",
          "text": [
            "('database', 'AI')\n",
            "<class 'tuple'>\n"
          ]
        },
        {
          "output_type": "error",
          "ename": "TypeError",
          "evalue": "ignored",
          "traceback": [
            "\u001b[0;31m---------------------------------------------------------------------------\u001b[0m",
            "\u001b[0;31mTypeError\u001b[0m                                 Traceback (most recent call last)",
            "\u001b[0;32m<ipython-input-30-38b2523a07f6>\u001b[0m in \u001b[0;36m<cell line: 6>\u001b[0;34m()\u001b[0m\n\u001b[1;32m      4\u001b[0m \u001b[0mprint\u001b[0m\u001b[0;34m(\u001b[0m\u001b[0mtype\u001b[0m\u001b[0;34m(\u001b[0m\u001b[0mcourses_tuple2\u001b[0m\u001b[0;34m)\u001b[0m\u001b[0;34m)\u001b[0m\u001b[0;34m\u001b[0m\u001b[0;34m\u001b[0m\u001b[0m\n\u001b[1;32m      5\u001b[0m \u001b[0;34m\u001b[0m\u001b[0m\n\u001b[0;32m----> 6\u001b[0;31m \u001b[0mcourses_tuple2\u001b[0m\u001b[0;34m[\u001b[0m\u001b[0;36m1\u001b[0m\u001b[0;34m]\u001b[0m \u001b[0;34m=\u001b[0m \u001b[0;34m'NLP'\u001b[0m\u001b[0;34m\u001b[0m\u001b[0;34m\u001b[0m\u001b[0m\n\u001b[0m",
            "\u001b[0;31mTypeError\u001b[0m: 'tuple' object does not support item assignment"
          ]
        }
      ]
    },
    {
      "cell_type": "code",
      "source": [
        "courses, type(courses)"
      ],
      "metadata": {
        "id": "byosG6D8E-k0",
        "colab": {
          "base_uri": "https://localhost:8080/"
        },
        "outputId": "c0bdfdca-79c7-4f05-c501-a57e3877696e"
      },
      "execution_count": null,
      "outputs": [
        {
          "output_type": "execute_result",
          "data": {
            "text/plain": [
              "(['algorithms', 'calculus', 'english'], list)"
            ]
          },
          "metadata": {},
          "execution_count": 19
        }
      ]
    },
    {
      "cell_type": "code",
      "source": [
        "courses[0] = 'AI'\n",
        "print(courses)"
      ],
      "metadata": {
        "colab": {
          "base_uri": "https://localhost:8080/"
        },
        "id": "RTTTs9_J19kF",
        "outputId": "df09fcf5-9f98-4707-c766-aab0b1d373b4"
      },
      "execution_count": null,
      "outputs": [
        {
          "output_type": "stream",
          "name": "stdout",
          "text": [
            "['AI', 'calculus', 'english']\n"
          ]
        }
      ]
    },
    {
      "cell_type": "markdown",
      "source": [
        "\n",
        "**CONDITIONAL STATEMENTS**\n"
      ],
      "metadata": {
        "id": "9oqOlrU5FAsF"
      }
    },
    {
      "cell_type": "code",
      "source": [
        "{}, Indentation\n"
      ],
      "metadata": {
        "id": "-YfiLaHKFHg2"
      },
      "execution_count": null,
      "outputs": []
    },
    {
      "cell_type": "code",
      "source": [
        "a = 2\n",
        "b = 5\n",
        "\n",
        "if b > a:  #;\n",
        "  print(\"b is greater than a\")  # indentation instead of {}\n",
        "elif b < a:  #else if\n",
        "  print(\"b is less than a\")\n",
        "else:    #else\n",
        "  print(\"b is equal to a\")"
      ],
      "metadata": {
        "colab": {
          "base_uri": "https://localhost:8080/"
        },
        "id": "49xnPpHNFHHh",
        "outputId": "24479632-c2d4-4cb8-ecbe-8e9bf9bd4500"
      },
      "execution_count": null,
      "outputs": [
        {
          "output_type": "stream",
          "name": "stdout",
          "text": [
            "b is greater than a\n"
          ]
        }
      ]
    },
    {
      "cell_type": "code",
      "source": [],
      "metadata": {
        "id": "srNYCu7ZFp-9"
      },
      "execution_count": null,
      "outputs": []
    },
    {
      "cell_type": "code",
      "source": [
        "x = 1\n",
        "while x < 3:\n",
        "  print('x: ', x)\n",
        "  x = x+1\n"
      ],
      "metadata": {
        "colab": {
          "base_uri": "https://localhost:8080/"
        },
        "id": "4ULf9EJ4FcNE",
        "outputId": "c78bf575-d179-479f-df67-fad78254130a"
      },
      "execution_count": null,
      "outputs": [
        {
          "output_type": "stream",
          "name": "stdout",
          "text": [
            "x:  1\n",
            "x:  2\n"
          ]
        }
      ]
    },
    {
      "cell_type": "code",
      "source": [
        "string_immutable = 'jhonson'\n",
        "'c' in string_immutable, 'n' in string_immutable"
      ],
      "metadata": {
        "id": "iN6gp8mhF0pU",
        "colab": {
          "base_uri": "https://localhost:8080/"
        },
        "outputId": "1ed7cd7e-b452-4502-ae5f-4e914533de18"
      },
      "execution_count": null,
      "outputs": [
        {
          "output_type": "execute_result",
          "data": {
            "text/plain": [
              "(False, True)"
            ]
          },
          "metadata": {},
          "execution_count": 1
        }
      ]
    },
    {
      "cell_type": "code",
      "source": [
        "courses"
      ],
      "metadata": {
        "colab": {
          "base_uri": "https://localhost:8080/"
        },
        "id": "uLNbliDp33Ka",
        "outputId": "0058ce69-b35f-4420-ea76-c3cc6e56be80"
      },
      "execution_count": null,
      "outputs": [
        {
          "output_type": "execute_result",
          "data": {
            "text/plain": [
              "['AI', 'calculus', 'english']"
            ]
          },
          "metadata": {},
          "execution_count": 27
        }
      ]
    },
    {
      "cell_type": "code",
      "source": [
        "for c in courses: #['AI', 'calculus', 'english']\n",
        "  print(c)"
      ],
      "metadata": {
        "colab": {
          "base_uri": "https://localhost:8080/"
        },
        "id": "7NzMJ7GlF8BL",
        "outputId": "c8311811-fddc-4b9e-c2d5-a7c88d3b9a91"
      },
      "execution_count": null,
      "outputs": [
        {
          "output_type": "stream",
          "name": "stdout",
          "text": [
            "AI\n",
            "calculus\n",
            "english\n"
          ]
        }
      ]
    },
    {
      "cell_type": "code",
      "source": [
        "for i in range(len(courses)):  #len(courses)->3, range(3)\n",
        "  print(i, courses[i])"
      ],
      "metadata": {
        "id": "SDvGkVYtGY_l",
        "colab": {
          "base_uri": "https://localhost:8080/"
        },
        "outputId": "23ef4502-a9d1-4193-b3a0-34f465fc3892"
      },
      "execution_count": null,
      "outputs": [
        {
          "output_type": "stream",
          "name": "stdout",
          "text": [
            "0 AI\n",
            "1 calculus\n",
            "2 english\n"
          ]
        }
      ]
    },
    {
      "cell_type": "markdown",
      "source": [
        ":\n",
        "**Excercises**"
      ],
      "metadata": {
        "id": "l8SNZmJ9Itzn"
      }
    },
    {
      "cell_type": "code",
      "source": [],
      "metadata": {
        "id": "N3-wiik3IxWy"
      },
      "execution_count": null,
      "outputs": []
    },
    {
      "cell_type": "code",
      "source": [
        "#create a list of vegetables\n",
        "Vegetables = ['tomato', 'cucumber', 'carrot' ,  'broccoli ', 'cabbage' , 'oninon'  , ' potato' , ]\n",
        "\n",
        "print(Vegetables)\n",
        "print(type(Vegetables))\n",
        "\n"
      ],
      "metadata": {
        "id": "k1S27aRfIzhN",
        "colab": {
          "base_uri": "https://localhost:8080/"
        },
        "outputId": "0f104397-38f0-428b-c230-d3175036be24"
      },
      "execution_count": 11,
      "outputs": [
        {
          "output_type": "stream",
          "name": "stdout",
          "text": [
            "['tomato', 'cucumber', 'carrot', 'broccoli ', 'cabbage', 'oninon', ' potato']\n",
            "<class 'list'>\n",
            "7\n"
          ]
        }
      ]
    },
    {
      "cell_type": "code",
      "source": [],
      "metadata": {
        "id": "s_BItVPUI-Hg"
      },
      "execution_count": null,
      "outputs": []
    },
    {
      "cell_type": "code",
      "source": [
        "#create a list of subjects for specific sections (use dictionary, use list as values and section as keys)\n",
        "\n",
        "Subjects  = [ \"Math\" , \"Physics\" , \"chemistry\" , \"Geography\" ,  \"History\", \"Biology\" , \" ICT\" ]\n",
        "print(Subjects)\n",
        "print(type(Subjects))\n",
        "Dictionary = dict({ 23 : \"physics\" , 24 : \"History\" , 45 :\"chemistry\",  67 : \"Geography\" , 11 :\"ICT\",  45 : \"Biology\" })\n",
        "print(Dictionary)\n",
        "print(type(Dictionary))\n",
        "print(Dictionary.keys())\n",
        "print(Dictionary.values())\n"
      ],
      "metadata": {
        "id": "No77VudtJAxx",
        "colab": {
          "base_uri": "https://localhost:8080/"
        },
        "outputId": "84c5747c-dc52-42fc-fd6e-af709dccbefc"
      },
      "execution_count": 16,
      "outputs": [
        {
          "output_type": "stream",
          "name": "stdout",
          "text": [
            "['Math', 'Physics', 'chemistry', 'Geography', 'History', 'Biology', ' ICT']\n",
            "<class 'list'>\n",
            "{23: 'physics', 24: 'History', 45: 'Biology', 67: 'Geography', 11: 'ICT'}\n",
            "<class 'dict'>\n",
            "dict_keys([23, 24, 45, 67, 11])\n",
            "dict_values(['physics', 'History', 'Biology', 'Geography', 'ICT'])\n"
          ]
        }
      ]
    },
    {
      "cell_type": "code",
      "source": [],
      "metadata": {
        "id": "XCJ3wKe_JSgI",
        "colab": {
          "base_uri": "https://localhost:8080/"
        },
        "outputId": "4d76c5a2-6f30-4e0c-d86d-b4ae2ef54597"
      },
      "execution_count": 15,
      "outputs": [
        {
          "output_type": "stream",
          "name": "stdout",
          "text": [
            "{23: 'physics', 24: 'History', 45: 'Biology', 67: 'Geography', 11: 'ICT'}\n",
            "<class 'dict'>\n",
            "dict_keys([23, 24, 45, 67, 11])\n",
            "dict_values(['physics', 'History', 'Biology', 'Geography', 'ICT'])\n"
          ]
        }
      ]
    },
    {
      "cell_type": "code",
      "source": [
        "#create a list of numbers and print the smallest number in the list\n",
        "\n",
        "List_of_numbers = [266,223,422,52,633,777,83,93,1220]\n",
        "print(List_of_numbers)\n",
        "print(type(List_of_numbers))\n",
        "print(min(List_of_numbers))"
      ],
      "metadata": {
        "id": "85gdpmlPJA7k",
        "colab": {
          "base_uri": "https://localhost:8080/"
        },
        "outputId": "9a3ee1cc-95b2-45d5-950a-10143dac4fa6"
      },
      "execution_count": 23,
      "outputs": [
        {
          "output_type": "stream",
          "name": "stdout",
          "text": [
            "[266, 223, 422, 52, 633, 777, 83, 93, 1220]\n",
            "<class 'list'>\n",
            "52\n"
          ]
        }
      ]
    },
    {
      "cell_type": "code",
      "source": [],
      "metadata": {
        "id": "2ES3SpzuiSVR"
      },
      "execution_count": null,
      "outputs": []
    },
    {
      "cell_type": "code",
      "source": [],
      "metadata": {
        "id": "PTdrdKtQJfHo"
      },
      "execution_count": null,
      "outputs": []
    },
    {
      "cell_type": "code",
      "source": [
        "#create a list of numbers and print the largest number in the list\n",
        "\n",
        "List_of_numbers = [90,24,34,55,236,237,24228,29,1110]\n",
        "print(List_of_numbers)\n",
        "print(type(List_of_numbers))\n",
        "print(max(List_of_numbers))"
      ],
      "metadata": {
        "id": "YUZPiGI8Jfhf",
        "colab": {
          "base_uri": "https://localhost:8080/"
        },
        "outputId": "a330b6d9-bf02-4208-f8f0-72690541698e"
      },
      "execution_count": 22,
      "outputs": [
        {
          "output_type": "stream",
          "name": "stdout",
          "text": [
            "[90, 24, 34, 55, 236, 237, 24228, 29, 1110]\n",
            "<class 'list'>\n",
            "24228\n"
          ]
        }
      ]
    },
    {
      "cell_type": "code",
      "source": [],
      "metadata": {
        "id": "4EOV8LIyJh49"
      },
      "execution_count": null,
      "outputs": []
    }
  ]
}